{
 "cells": [
  {
   "cell_type": "markdown",
   "id": "856ef19e",
   "metadata": {
    "heading_collapsed": true
   },
   "source": [
    "### Import libraries"
   ]
  },
  {
   "cell_type": "code",
   "execution_count": 464,
   "id": "c5f6eda2",
   "metadata": {
    "hidden": true
   },
   "outputs": [],
   "source": [
    "import numpy as np\n",
    "import pandas as pd\n",
    "from sklearn.linear_model import LinearRegression\n",
    "from sklearn.metrics import mean_squared_error\n",
    "from sklearn.metrics import r2_score\n",
    "from scipy.stats import boxcox\n",
    "from scipy.special import inv_boxcox\n",
    "from scipy import stats\n",
    "import matplotlib.pyplot as plt\n",
    "import seaborn as sns"
   ]
  },
  {
   "cell_type": "markdown",
   "id": "3ba094aa",
   "metadata": {
    "heading_collapsed": true
   },
   "source": [
    "### Read .csv"
   ]
  },
  {
   "cell_type": "code",
   "execution_count": 465,
   "id": "1ca1a343",
   "metadata": {
    "hidden": true
   },
   "outputs": [],
   "source": [
    "diamonds = 'diamonds.csv'\n",
    "rick_diamonds = 'rick_diamonds.csv'"
   ]
  },
  {
   "cell_type": "code",
   "execution_count": 466,
   "id": "6e499bbe",
   "metadata": {
    "hidden": true
   },
   "outputs": [],
   "source": [
    "data = pd.read_csv(diamonds)\n",
    "rick = pd.read_csv(rick_diamonds)"
   ]
  },
  {
   "cell_type": "markdown",
   "id": "5d9913f7",
   "metadata": {
    "hidden": true
   },
   "source": [
    "#### Save backup files"
   ]
  },
  {
   "cell_type": "code",
   "execution_count": 467,
   "id": "cb5f13f2",
   "metadata": {
    "hidden": true
   },
   "outputs": [],
   "source": [
    "data_bk = data.copy()\n",
    "rick_bk = rick.copy()"
   ]
  },
  {
   "cell_type": "markdown",
   "id": "88d458da",
   "metadata": {
    "heading_collapsed": true
   },
   "source": [
    "### Understand database"
   ]
  },
  {
   "cell_type": "code",
   "execution_count": 468,
   "id": "c478a0f1",
   "metadata": {
    "hidden": true
   },
   "outputs": [
    {
     "data": {
      "text/html": [
       "<div>\n",
       "<style scoped>\n",
       "    .dataframe tbody tr th:only-of-type {\n",
       "        vertical-align: middle;\n",
       "    }\n",
       "\n",
       "    .dataframe tbody tr th {\n",
       "        vertical-align: top;\n",
       "    }\n",
       "\n",
       "    .dataframe thead th {\n",
       "        text-align: right;\n",
       "    }\n",
       "</style>\n",
       "<table border=\"1\" class=\"dataframe\">\n",
       "  <thead>\n",
       "    <tr style=\"text-align: right;\">\n",
       "      <th></th>\n",
       "      <th>carat</th>\n",
       "      <th>depth</th>\n",
       "      <th>table</th>\n",
       "      <th>price</th>\n",
       "      <th>x</th>\n",
       "      <th>y</th>\n",
       "      <th>z</th>\n",
       "    </tr>\n",
       "  </thead>\n",
       "  <tbody>\n",
       "    <tr>\n",
       "      <th>count</th>\n",
       "      <td>48940.000000</td>\n",
       "      <td>48940.000000</td>\n",
       "      <td>48940.000000</td>\n",
       "      <td>48940.000000</td>\n",
       "      <td>48940.000000</td>\n",
       "      <td>48940.000000</td>\n",
       "      <td>48940.000000</td>\n",
       "    </tr>\n",
       "    <tr>\n",
       "      <th>mean</th>\n",
       "      <td>0.797817</td>\n",
       "      <td>61.751931</td>\n",
       "      <td>57.451161</td>\n",
       "      <td>3934.409644</td>\n",
       "      <td>5.730712</td>\n",
       "      <td>5.734333</td>\n",
       "      <td>3.538648</td>\n",
       "    </tr>\n",
       "    <tr>\n",
       "      <th>std</th>\n",
       "      <td>0.474126</td>\n",
       "      <td>1.430026</td>\n",
       "      <td>2.233450</td>\n",
       "      <td>3989.333861</td>\n",
       "      <td>1.121920</td>\n",
       "      <td>1.145344</td>\n",
       "      <td>0.706817</td>\n",
       "    </tr>\n",
       "    <tr>\n",
       "      <th>min</th>\n",
       "      <td>0.200000</td>\n",
       "      <td>43.000000</td>\n",
       "      <td>43.000000</td>\n",
       "      <td>326.000000</td>\n",
       "      <td>0.000000</td>\n",
       "      <td>0.000000</td>\n",
       "      <td>0.000000</td>\n",
       "    </tr>\n",
       "    <tr>\n",
       "      <th>25%</th>\n",
       "      <td>0.400000</td>\n",
       "      <td>61.000000</td>\n",
       "      <td>56.000000</td>\n",
       "      <td>949.000000</td>\n",
       "      <td>4.710000</td>\n",
       "      <td>4.720000</td>\n",
       "      <td>2.910000</td>\n",
       "    </tr>\n",
       "    <tr>\n",
       "      <th>50%</th>\n",
       "      <td>0.700000</td>\n",
       "      <td>61.800000</td>\n",
       "      <td>57.000000</td>\n",
       "      <td>2401.000000</td>\n",
       "      <td>5.690000</td>\n",
       "      <td>5.710000</td>\n",
       "      <td>3.520000</td>\n",
       "    </tr>\n",
       "    <tr>\n",
       "      <th>75%</th>\n",
       "      <td>1.040000</td>\n",
       "      <td>62.500000</td>\n",
       "      <td>59.000000</td>\n",
       "      <td>5331.250000</td>\n",
       "      <td>6.540000</td>\n",
       "      <td>6.540000</td>\n",
       "      <td>4.040000</td>\n",
       "    </tr>\n",
       "    <tr>\n",
       "      <th>max</th>\n",
       "      <td>5.010000</td>\n",
       "      <td>79.000000</td>\n",
       "      <td>95.000000</td>\n",
       "      <td>18823.000000</td>\n",
       "      <td>10.740000</td>\n",
       "      <td>58.900000</td>\n",
       "      <td>31.800000</td>\n",
       "    </tr>\n",
       "  </tbody>\n",
       "</table>\n",
       "</div>"
      ],
      "text/plain": [
       "              carat         depth         table         price             x  \\\n",
       "count  48940.000000  48940.000000  48940.000000  48940.000000  48940.000000   \n",
       "mean       0.797817     61.751931     57.451161   3934.409644      5.730712   \n",
       "std        0.474126      1.430026      2.233450   3989.333861      1.121920   \n",
       "min        0.200000     43.000000     43.000000    326.000000      0.000000   \n",
       "25%        0.400000     61.000000     56.000000    949.000000      4.710000   \n",
       "50%        0.700000     61.800000     57.000000   2401.000000      5.690000   \n",
       "75%        1.040000     62.500000     59.000000   5331.250000      6.540000   \n",
       "max        5.010000     79.000000     95.000000  18823.000000     10.740000   \n",
       "\n",
       "                  y             z  \n",
       "count  48940.000000  48940.000000  \n",
       "mean       5.734333      3.538648  \n",
       "std        1.145344      0.706817  \n",
       "min        0.000000      0.000000  \n",
       "25%        4.720000      2.910000  \n",
       "50%        5.710000      3.520000  \n",
       "75%        6.540000      4.040000  \n",
       "max       58.900000     31.800000  "
      ]
     },
     "execution_count": 468,
     "metadata": {},
     "output_type": "execute_result"
    }
   ],
   "source": [
    "data.describe()"
   ]
  },
  {
   "cell_type": "code",
   "execution_count": 469,
   "id": "d1f4cec6",
   "metadata": {
    "hidden": true
   },
   "outputs": [
    {
     "data": {
      "text/plain": [
       "carat    0.922186\n",
       "depth   -0.012037\n",
       "table    0.127832\n",
       "price    1.000000\n",
       "x        0.885019\n",
       "y        0.864059\n",
       "z        0.860247\n",
       "Name: price, dtype: float64"
      ]
     },
     "execution_count": 469,
     "metadata": {},
     "output_type": "execute_result"
    }
   ],
   "source": [
    "data.corr()['price']"
   ]
  },
  {
   "cell_type": "code",
   "execution_count": 470,
   "id": "4cb3f5f2",
   "metadata": {
    "cell_style": "split",
    "hidden": true
   },
   "outputs": [
    {
     "data": {
      "image/png": "[encoded data removed]",
      "text/plain": [
       "<Figure size 422.375x360 with 1 Axes>"
      ]
     },
     "metadata": {
      "needs_background": "light"
     },
     "output_type": "display_data"
    }
   ],
   "source": [
    "sns.lmplot(data = data, x = 'carat', y = 'price', hue = 'clarity');"
   ]
  },
  {
   "cell_type": "code",
   "execution_count": 471,
   "id": "51dc0b41",
   "metadata": {
    "cell_style": "split",
    "hidden": true
   },
   "outputs": [
    {
     "data": {
      "image/png": "[encoded data removed]",
      "text/plain": [
       "<Figure size 403.75x360 with 1 Axes>"
      ]
     },
     "metadata": {
      "needs_background": "light"
     },
     "output_type": "display_data"
    }
   ],
   "source": [
    "sns.lmplot(data = data, x = 'carat', y = 'price', hue = 'color');"
   ]
  },
  {
   "cell_type": "markdown",
   "id": "fd7abe48",
   "metadata": {
    "heading_collapsed": true
   },
   "source": [
    "### Clean database"
   ]
  },
  {
   "cell_type": "markdown",
   "id": "6a135163",
   "metadata": {
    "heading_collapsed": true,
    "hidden": true
   },
   "source": [
    "#### Disconsidered | Modifications that increased the root mean squared error"
   ]
  },
  {
   "cell_type": "markdown",
   "id": "fa9113ab",
   "metadata": {
    "hidden": true
   },
   "source": [
    "Transforming column 'price' into normal distribution to remove outliers\n",
    "\n",
    "Result: no outliers found more than 3 standard deviations away from the mean\n",
    "\n",
    "Test: removing outliers more than 2 standard deviations away from the mean increases the RMSE"
   ]
  },
  {
   "cell_type": "code",
   "execution_count": 472,
   "id": "71908786",
   "metadata": {
    "hidden": true
   },
   "outputs": [],
   "source": [
    "transformed_data = boxcox(data['price'])[0]\n",
    "boxcox_index = boxcox(data['price'])[1]\n",
    "\n",
    "#sns.histplot(transformed_data);\n",
    "#fig, ax = plt.subplots()\n",
    "#stats.probplot(transformed_data, plot=ax);\n",
    "#sns.boxplot(x = transformed_data);\n",
    "\n",
    "mean = np.mean(transformed_data)\n",
    "std = np.std(transformed_data)\n",
    "lower_cut = mean - 3*std\n",
    "upper_cut = mean + 3*std\n",
    "\n",
    "#data['transformed_price'] = transformed_data\n",
    "#data[(data['transformed_price'] < upper_cut) & (data['transformed_price'] > lower_cut)]"
   ]
  },
  {
   "cell_type": "markdown",
   "id": "1d87a7c9",
   "metadata": {
    "heading_collapsed": true
   },
   "source": [
    "### Compare historical data with Rick's data"
   ]
  },
  {
   "cell_type": "code",
   "execution_count": 473,
   "id": "1f9ab06a",
   "metadata": {
    "cell_style": "center",
    "hidden": true
   },
   "outputs": [
    {
     "data": {
      "text/html": [
       "<div>\n",
       "<style scoped>\n",
       "    .dataframe tbody tr th:only-of-type {\n",
       "        vertical-align: middle;\n",
       "    }\n",
       "\n",
       "    .dataframe tbody tr th {\n",
       "        vertical-align: top;\n",
       "    }\n",
       "\n",
       "    .dataframe thead th {\n",
       "        text-align: right;\n",
       "    }\n",
       "</style>\n",
       "<table border=\"1\" class=\"dataframe\">\n",
       "  <thead>\n",
       "    <tr style=\"text-align: right;\">\n",
       "      <th></th>\n",
       "      <th>carat</th>\n",
       "      <th>depth</th>\n",
       "      <th>table</th>\n",
       "      <th>price</th>\n",
       "      <th>x</th>\n",
       "      <th>y</th>\n",
       "      <th>z</th>\n",
       "    </tr>\n",
       "  </thead>\n",
       "  <tbody>\n",
       "    <tr>\n",
       "      <th>count</th>\n",
       "      <td>48940.000000</td>\n",
       "      <td>48940.000000</td>\n",
       "      <td>48940.000000</td>\n",
       "      <td>48940.000000</td>\n",
       "      <td>48940.000000</td>\n",
       "      <td>48940.000000</td>\n",
       "      <td>48940.000000</td>\n",
       "    </tr>\n",
       "    <tr>\n",
       "      <th>mean</th>\n",
       "      <td>0.797817</td>\n",
       "      <td>61.751931</td>\n",
       "      <td>57.451161</td>\n",
       "      <td>3934.409644</td>\n",
       "      <td>5.730712</td>\n",
       "      <td>5.734333</td>\n",
       "      <td>3.538648</td>\n",
       "    </tr>\n",
       "    <tr>\n",
       "      <th>std</th>\n",
       "      <td>0.474126</td>\n",
       "      <td>1.430026</td>\n",
       "      <td>2.233450</td>\n",
       "      <td>3989.333861</td>\n",
       "      <td>1.121920</td>\n",
       "      <td>1.145344</td>\n",
       "      <td>0.706817</td>\n",
       "    </tr>\n",
       "    <tr>\n",
       "      <th>min</th>\n",
       "      <td>0.200000</td>\n",
       "      <td>43.000000</td>\n",
       "      <td>43.000000</td>\n",
       "      <td>326.000000</td>\n",
       "      <td>0.000000</td>\n",
       "      <td>0.000000</td>\n",
       "      <td>0.000000</td>\n",
       "    </tr>\n",
       "    <tr>\n",
       "      <th>25%</th>\n",
       "      <td>0.400000</td>\n",
       "      <td>61.000000</td>\n",
       "      <td>56.000000</td>\n",
       "      <td>949.000000</td>\n",
       "      <td>4.710000</td>\n",
       "      <td>4.720000</td>\n",
       "      <td>2.910000</td>\n",
       "    </tr>\n",
       "    <tr>\n",
       "      <th>50%</th>\n",
       "      <td>0.700000</td>\n",
       "      <td>61.800000</td>\n",
       "      <td>57.000000</td>\n",
       "      <td>2401.000000</td>\n",
       "      <td>5.690000</td>\n",
       "      <td>5.710000</td>\n",
       "      <td>3.520000</td>\n",
       "    </tr>\n",
       "    <tr>\n",
       "      <th>75%</th>\n",
       "      <td>1.040000</td>\n",
       "      <td>62.500000</td>\n",
       "      <td>59.000000</td>\n",
       "      <td>5331.250000</td>\n",
       "      <td>6.540000</td>\n",
       "      <td>6.540000</td>\n",
       "      <td>4.040000</td>\n",
       "    </tr>\n",
       "    <tr>\n",
       "      <th>max</th>\n",
       "      <td>5.010000</td>\n",
       "      <td>79.000000</td>\n",
       "      <td>95.000000</td>\n",
       "      <td>18823.000000</td>\n",
       "      <td>10.740000</td>\n",
       "      <td>58.900000</td>\n",
       "      <td>31.800000</td>\n",
       "    </tr>\n",
       "  </tbody>\n",
       "</table>\n",
       "</div>"
      ],
      "text/plain": [
       "              carat         depth         table         price             x  \\\n",
       "count  48940.000000  48940.000000  48940.000000  48940.000000  48940.000000   \n",
       "mean       0.797817     61.751931     57.451161   3934.409644      5.730712   \n",
       "std        0.474126      1.430026      2.233450   3989.333861      1.121920   \n",
       "min        0.200000     43.000000     43.000000    326.000000      0.000000   \n",
       "25%        0.400000     61.000000     56.000000    949.000000      4.710000   \n",
       "50%        0.700000     61.800000     57.000000   2401.000000      5.690000   \n",
       "75%        1.040000     62.500000     59.000000   5331.250000      6.540000   \n",
       "max        5.010000     79.000000     95.000000  18823.000000     10.740000   \n",
       "\n",
       "                  y             z  \n",
       "count  48940.000000  48940.000000  \n",
       "mean       5.734333      3.538648  \n",
       "std        1.145344      0.706817  \n",
       "min        0.000000      0.000000  \n",
       "25%        4.720000      2.910000  \n",
       "50%        5.710000      3.520000  \n",
       "75%        6.540000      4.040000  \n",
       "max       58.900000     31.800000  "
      ]
     },
     "execution_count": 473,
     "metadata": {},
     "output_type": "execute_result"
    }
   ],
   "source": [
    "data.describe()"
   ]
  },
  {
   "cell_type": "code",
   "execution_count": 474,
   "id": "dfab0429",
   "metadata": {
    "hidden": true
   },
   "outputs": [
    {
     "data": {
      "text/html": [
       "<div>\n",
       "<style scoped>\n",
       "    .dataframe tbody tr th:only-of-type {\n",
       "        vertical-align: middle;\n",
       "    }\n",
       "\n",
       "    .dataframe tbody tr th {\n",
       "        vertical-align: top;\n",
       "    }\n",
       "\n",
       "    .dataframe thead th {\n",
       "        text-align: right;\n",
       "    }\n",
       "</style>\n",
       "<table border=\"1\" class=\"dataframe\">\n",
       "  <thead>\n",
       "    <tr style=\"text-align: right;\">\n",
       "      <th></th>\n",
       "      <th>carat</th>\n",
       "      <th>depth</th>\n",
       "      <th>table</th>\n",
       "      <th>x</th>\n",
       "      <th>y</th>\n",
       "      <th>z</th>\n",
       "    </tr>\n",
       "  </thead>\n",
       "  <tbody>\n",
       "    <tr>\n",
       "      <th>count</th>\n",
       "      <td>5000.000000</td>\n",
       "      <td>5000.000000</td>\n",
       "      <td>5000.000000</td>\n",
       "      <td>5000.000000</td>\n",
       "      <td>5000.000000</td>\n",
       "      <td>5000.000000</td>\n",
       "    </tr>\n",
       "    <tr>\n",
       "      <th>mean</th>\n",
       "      <td>0.799144</td>\n",
       "      <td>61.724680</td>\n",
       "      <td>57.516140</td>\n",
       "      <td>5.735516</td>\n",
       "      <td>5.736410</td>\n",
       "      <td>3.539576</td>\n",
       "    </tr>\n",
       "    <tr>\n",
       "      <th>std</th>\n",
       "      <td>0.472936</td>\n",
       "      <td>1.457691</td>\n",
       "      <td>2.244019</td>\n",
       "      <td>1.120300</td>\n",
       "      <td>1.110345</td>\n",
       "      <td>0.694733</td>\n",
       "    </tr>\n",
       "    <tr>\n",
       "      <th>min</th>\n",
       "      <td>0.200000</td>\n",
       "      <td>44.000000</td>\n",
       "      <td>50.000000</td>\n",
       "      <td>0.000000</td>\n",
       "      <td>0.000000</td>\n",
       "      <td>0.000000</td>\n",
       "    </tr>\n",
       "    <tr>\n",
       "      <th>25%</th>\n",
       "      <td>0.400000</td>\n",
       "      <td>61.000000</td>\n",
       "      <td>56.000000</td>\n",
       "      <td>4.720000</td>\n",
       "      <td>4.720000</td>\n",
       "      <td>2.910000</td>\n",
       "    </tr>\n",
       "    <tr>\n",
       "      <th>50%</th>\n",
       "      <td>0.710000</td>\n",
       "      <td>61.800000</td>\n",
       "      <td>57.000000</td>\n",
       "      <td>5.710000</td>\n",
       "      <td>5.720000</td>\n",
       "      <td>3.530000</td>\n",
       "    </tr>\n",
       "    <tr>\n",
       "      <th>75%</th>\n",
       "      <td>1.040000</td>\n",
       "      <td>62.500000</td>\n",
       "      <td>59.000000</td>\n",
       "      <td>6.530000</td>\n",
       "      <td>6.520000</td>\n",
       "      <td>4.032500</td>\n",
       "    </tr>\n",
       "    <tr>\n",
       "      <th>max</th>\n",
       "      <td>4.130000</td>\n",
       "      <td>73.600000</td>\n",
       "      <td>70.000000</td>\n",
       "      <td>10.000000</td>\n",
       "      <td>9.850000</td>\n",
       "      <td>6.430000</td>\n",
       "    </tr>\n",
       "  </tbody>\n",
       "</table>\n",
       "</div>"
      ],
      "text/plain": [
       "             carat        depth        table            x            y  \\\n",
       "count  5000.000000  5000.000000  5000.000000  5000.000000  5000.000000   \n",
       "mean      0.799144    61.724680    57.516140     5.735516     5.736410   \n",
       "std       0.472936     1.457691     2.244019     1.120300     1.110345   \n",
       "min       0.200000    44.000000    50.000000     0.000000     0.000000   \n",
       "25%       0.400000    61.000000    56.000000     4.720000     4.720000   \n",
       "50%       0.710000    61.800000    57.000000     5.710000     5.720000   \n",
       "75%       1.040000    62.500000    59.000000     6.530000     6.520000   \n",
       "max       4.130000    73.600000    70.000000    10.000000     9.850000   \n",
       "\n",
       "                 z  \n",
       "count  5000.000000  \n",
       "mean      3.539576  \n",
       "std       0.694733  \n",
       "min       0.000000  \n",
       "25%       2.910000  \n",
       "50%       3.530000  \n",
       "75%       4.032500  \n",
       "max       6.430000  "
      ]
     },
     "execution_count": 474,
     "metadata": {},
     "output_type": "execute_result"
    }
   ],
   "source": [
    "rick.describe()"
   ]
  },
  {
   "cell_type": "code",
   "execution_count": 475,
   "id": "f61c7f07",
   "metadata": {
    "hidden": true
   },
   "outputs": [
    {
     "data": {
      "text/plain": [
       "(48940, 10)"
      ]
     },
     "execution_count": 475,
     "metadata": {},
     "output_type": "execute_result"
    }
   ],
   "source": [
    "data.shape"
   ]
  },
  {
   "cell_type": "markdown",
   "id": "20983c90",
   "metadata": {
    "hidden": true
   },
   "source": [
    "#### Removing historical data that won't be necessary when estimating prices"
   ]
  },
  {
   "cell_type": "code",
   "execution_count": 485,
   "id": "fc06f585",
   "metadata": {
    "hidden": true
   },
   "outputs": [],
   "source": [
    "col_list = ['carat', 'depth', 'table', 'x', 'y', 'z']\n",
    "for col in col_list:\n",
    "    data = data[~(data[col] < rick[col].min()) & ~(data[col] > rick[col].max())]"
   ]
  },
  {
   "cell_type": "code",
   "execution_count": 486,
   "id": "5bde84a2",
   "metadata": {
    "hidden": true
   },
   "outputs": [
    {
     "data": {
      "text/plain": [
       "(48917, 10)"
      ]
     },
     "execution_count": 486,
     "metadata": {},
     "output_type": "execute_result"
    }
   ],
   "source": [
    "data.shape"
   ]
  },
  {
   "cell_type": "markdown",
   "id": "357de4eb",
   "metadata": {},
   "source": [
    "### Build model"
   ]
  },
  {
   "cell_type": "code",
   "execution_count": 492,
   "id": "192e8e0c",
   "metadata": {},
   "outputs": [],
   "source": [
    "columns = ['carat', 'depth', 'table', 'x']\n",
    "rel_a = 'color'\n",
    "rel_b = 'clarity'\n",
    "\n",
    "def predict_price(columns, rel_a, rel_b):\n",
    "    rick['price_predicted'] = 0\n",
    "    for a in data[rel_a].unique():\n",
    "        for b in data[rel_b].unique():\n",
    "            model = LinearRegression()\n",
    "            X = data[(data[rel_a] == a) & (data[rel_b] == b)][columns]\n",
    "            y = data[(data[rel_a] == a) & (data[rel_b] == b)]['price']\n",
    "            model.fit(X,y)\n",
    "            X_rick = rick[(rick[rel_a] == a) & (rick[rel_b] == b)][columns]\n",
    "            rick.loc[((rick[rel_a] == a) & (rick[rel_b] == b)),'price_predicted'] = model.predict(X_rick)\n",
    "    rick.to_csv('rick_prices.csv', index = False)\n",
    "    return 'Price predicted in rick_prices.csv!'"
   ]
  },
  {
   "cell_type": "code",
   "execution_count": 493,
   "id": "94b5bf25",
   "metadata": {},
   "outputs": [
    {
     "data": {
      "text/plain": [
       "'Price predicted in rick_prices.csv!'"
      ]
     },
     "execution_count": 493,
     "metadata": {},
     "output_type": "execute_result"
    }
   ],
   "source": [
    "predict_price(columns, rel_a, rel_b)"
   ]
  },
  {
   "cell_type": "markdown",
   "id": "b9f927a8",
   "metadata": {
    "heading_collapsed": true
   },
   "source": [
    "### Tries"
   ]
  },
  {
   "cell_type": "markdown",
   "id": "cd01dc1e",
   "metadata": {
    "hidden": true
   },
   "source": [
    "#### 1) Your root mean squared error is 1605.15175707362\n",
    "Using linear regression of carat related to price."
   ]
  },
  {
   "cell_type": "markdown",
   "id": "9800b7f2",
   "metadata": {
    "hidden": true
   },
   "source": [
    "#### 2) Your root mean squared error is 1605.1525442863103\n",
    "Using linear regression of carat related to price after removing price values more than 2 standard deviations away from the mean."
   ]
  },
  {
   "cell_type": "markdown",
   "id": "a9024f24",
   "metadata": {
    "hidden": true
   },
   "source": [
    "#### 3) Your root mean squared error is 1605.3464712564132\n",
    "Using linear regression of carat related to price after removing historical data (carat, depth and table) that would't affect Rick's prices"
   ]
  },
  {
   "cell_type": "markdown",
   "id": "ab2e06f8",
   "metadata": {
    "hidden": true
   },
   "source": [
    "#### 4) Your root mean squared error is 1599.1245298339925\n",
    "Using linear regression of carat and depth related to price after removing historical data (carat, depth and table) that would't affect Rick's prices"
   ]
  },
  {
   "cell_type": "markdown",
   "id": "12b027bd",
   "metadata": {
    "hidden": true
   },
   "source": [
    "#### 5) Your root mean squared error is 1583.834574315603\n",
    "Using linear regression of carat, depth and table related to price after removing historical data (carat, depth and table) that would't affect Rick's prices"
   ]
  },
  {
   "cell_type": "markdown",
   "id": "f2f61946",
   "metadata": {
    "hidden": true
   },
   "source": [
    "#### 6) Your root mean squared error is 1584.0322082194373\n",
    "Using linear regression of carat, depth and table related to price after removing historical data (carat, depth, table, x, y and z) that would't affect Rick's prices"
   ]
  },
  {
   "cell_type": "markdown",
   "id": "65a8dd9e",
   "metadata": {
    "hidden": true
   },
   "source": [
    "#### 7) Your root mean squared error is 1564.5429813765497\n",
    "Using linear regression of carat, depth, table and x related to price after removing historical data (carat, depth, table, x, y and z) that would't affect Rick's prices"
   ]
  },
  {
   "cell_type": "markdown",
   "id": "5e0ad3fb",
   "metadata": {
    "hidden": true
   },
   "source": [
    "#### 8) Your root mean squared error is 1560.4168934863962\n",
    "Using linear regression of carat, depth, table, x and y related to price after removing historical data (carat, depth, table, x, y and z) that would't affect Rick's prices"
   ]
  },
  {
   "cell_type": "markdown",
   "id": "a574c333",
   "metadata": {
    "hidden": true
   },
   "source": [
    "#### 9) Your root mean squared error is 1560.4696333722884\n",
    "Using linear regression of carat, depth, table, x, y and z related to price after removing historical data (carat, depth, table, x, y and z) that would't affect Rick's prices"
   ]
  },
  {
   "cell_type": "markdown",
   "id": "17d0715a",
   "metadata": {
    "hidden": true
   },
   "source": [
    "#### 10) Your root mean squared error is 1579.007372606321\n",
    "Using linear regression of carat, table, x and y related to price after removing historical data (carat, depth, table, x, y and z) that would't affect Rick's prices"
   ]
  },
  {
   "cell_type": "markdown",
   "id": "54c9f671",
   "metadata": {
    "hidden": true
   },
   "source": [
    "#### 11) Your root mean squared error is 1456.3841869992268\n",
    "Using linear regression of carat, depth, table, x and y related to price creating a model for each color after removing historical data (carat, depth, table, x, y and z) that would't affect Rick's prices"
   ]
  },
  {
   "cell_type": "markdown",
   "id": "5e15ad54",
   "metadata": {
    "hidden": true
   },
   "source": [
    "#### 12) Your root mean squared error is 1510.3861458586653\n",
    "Using linear regression of carat and depth related to price creating a model for each color after removing historical data (carat, depth, table, x, y and z) that would't affect Rick's prices"
   ]
  },
  {
   "cell_type": "markdown",
   "id": "0c390f4a",
   "metadata": {
    "hidden": true
   },
   "source": [
    "#### 13) Your root mean squared error is 1514.7994760575596\n",
    "Using linear regression of carat and depth related to price creating a model for each color after removing historical data (carat, depth, table, x, y and z) that would't affect Rick's prices"
   ]
  },
  {
   "cell_type": "markdown",
   "id": "fa831493",
   "metadata": {
    "hidden": true
   },
   "source": [
    "#### 14) Your root mean squared error is 1129.6421260116958\n",
    "Using linear regression of carat, depth, table, x and y related to price creating a model for each clarity after removing historical data (carat, depth, table, x, y and z) that would't affect Rick's prices"
   ]
  },
  {
   "cell_type": "markdown",
   "id": "402287ab",
   "metadata": {
    "hidden": true
   },
   "source": [
    "#### 15) Your root mean squared error is 1560.4168934863962\n",
    "Using linear regression of carat, depth, table, x and y related to price creating a model for 4 different clarity groups after removing historical data (carat, depth, table, x, y and z) that would't affect Rick's prices"
   ]
  },
  {
   "cell_type": "markdown",
   "id": "682f3ab7",
   "metadata": {
    "hidden": true
   },
   "source": [
    "#### 16) Your root mean squared error is 721.3128677580671\n",
    "Using linear regression of carat, depth, table, x and y related to price creating a model for each clarity and color after removing historical data (carat, depth, table, x, y and z) that would't affect Rick's prices"
   ]
  },
  {
   "cell_type": "markdown",
   "id": "ad39bbd5",
   "metadata": {
    "hidden": true
   },
   "source": [
    "#### 17) Your root mean squared error is 709.6125147541211\n",
    "Using linear regression of carat, depth, table and x related to price creating a model for each clarity and color after removing historical data (carat, depth, table, x, y and z) that would't affect Rick's prices"
   ]
  },
  {
   "cell_type": "markdown",
   "id": "01b8e47a",
   "metadata": {
    "hidden": true
   },
   "source": [
    "#### 18) Your root mean squared error is 987.8265682322505\n",
    "Using linear regression of carat, depth and table related to price creating a model for each clarity and color after removing historical data (carat, depth, table, x, y and z) that would't affect Rick's prices"
   ]
  },
  {
   "cell_type": "markdown",
   "id": "5a123464",
   "metadata": {
    "hidden": true
   },
   "source": [
    "#### 19) Your root mean squared error is 726.4075535809208\n",
    "Using linear regression of carat, depth and x related to price creating a model for each clarity and color after removing historical data (carat, depth, table, x, y and z) that would't affect Rick's prices"
   ]
  },
  {
   "cell_type": "markdown",
   "id": "5bae72f0",
   "metadata": {
    "hidden": true
   },
   "source": [
    "#### 20) Your root mean squared error is 710.0707667113912\n",
    "Using linear regression of carat, depth, table x and z related to price creating a model for each clarity and color after removing historical data (carat, depth, table, x, y and z) that would't affect Rick's prices"
   ]
  },
  {
   "cell_type": "markdown",
   "id": "c0313084",
   "metadata": {
    "hidden": true
   },
   "source": [
    "#### 21) Your root mean squared error is 738.7198314265011\n",
    "Using linear regression of carat, depth, table x and y related to price creating a model for each clarity and color after removing historical data (carat, depth, table, x, y and z) that would't affect Rick's prices"
   ]
  }
 ],
 "metadata": {
  "kernelspec": {
   "display_name": "Python 3",
   "language": "python",
   "name": "python3"
  },
  "language_info": {
   "codemirror_mode": {
    "name": "ipython",
    "version": 3
   },
   "file_extension": ".py",
   "mimetype": "text/x-python",
   "name": "python",
   "nbconvert_exporter": "python",
   "pygments_lexer": "ipython3",
   "version": "3.6.13"
  },
  "varInspector": {
   "cols": {
    "lenName": 16,
    "lenType": 16,
    "lenVar": 40
   },
   "kernels_config": {
    "python": {
     "delete_cmd_postfix": "",
     "delete_cmd_prefix": "del ",
     "library": "var_list.py",
     "varRefreshCmd": "print(var_dic_list())"
    },
    "r": {
     "delete_cmd_postfix": ") ",
     "delete_cmd_prefix": "rm(",
     "library": "var_list.r",
     "varRefreshCmd": "cat(var_dic_list()) "
    }
   },
   "types_to_exclude": [
    "module",
    "function",
    "builtin_function_or_method",
    "instance",
    "_Feature"
   ],
   "window_display": false
  }
 },
 "nbformat": 4,
 "nbformat_minor": 5
}
